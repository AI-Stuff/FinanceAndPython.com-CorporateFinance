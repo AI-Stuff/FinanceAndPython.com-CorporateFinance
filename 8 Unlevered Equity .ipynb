{
 "cells": [
  {
   "cell_type": "code",
   "execution_count": 1,
   "metadata": {},
   "outputs": [
    {
     "name": "stdout",
     "output_type": "stream",
     "text": [
      "0.08\n",
      "0.12\n",
      "0.16\n",
      "0.2\n"
     ]
    }
   ],
   "source": [
    "def unlever(r_a,r_d,E,D):\n",
    "    return r_a + (r_a-r_d)*(D/E)\n",
    "print(unlever(.08,.04,100,0))\n",
    "print(unlever(.08,.04,100,100))\n",
    "print(unlever(.08,.04,100,200))\n",
    "print(unlever(.08,.02,100,200))"
   ]
  },
  {
   "cell_type": "code",
   "execution_count": 2,
   "metadata": {},
   "outputs": [
    {
     "name": "stdout",
     "output_type": "stream",
     "text": [
      "0.12\n",
      "0.08\n",
      "0.06\n"
     ]
    }
   ],
   "source": [
    "print(unlever(.08,.04,100,100-0))\n",
    "print(unlever(.08,.04,100,100-100))\n",
    "print(unlever(.08,.04,100,100-150))"
   ]
  }
 ],
 "metadata": {
  "anaconda-cloud": {},
  "kernelspec": {
   "display_name": "Python 3",
   "language": "python",
   "name": "python3"
  },
  "language_info": {
   "codemirror_mode": {
    "name": "ipython",
    "version": 3
   },
   "file_extension": ".py",
   "mimetype": "text/x-python",
   "name": "python",
   "nbconvert_exporter": "python",
   "pygments_lexer": "ipython3",
   "version": "3.6.1"
  }
 },
 "nbformat": 4,
 "nbformat_minor": 1
}
