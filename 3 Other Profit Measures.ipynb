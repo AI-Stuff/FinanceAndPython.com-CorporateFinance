{
 "cells": [
  {
   "cell_type": "code",
   "execution_count": 1,
   "metadata": {
    "collapsed": true
   },
   "outputs": [],
   "source": [
    "class Cashflow:\n",
    "    def __init__(self, val,t,r):\n",
    "        self.val = val\n",
    "        self.t = t\n",
    "        self.r = r\n",
    "        self.PV = self.valAt(0)\n",
    "    def valAt(self,time):\n",
    "        return self.val*(1+self.r)**(time-self.t)\n",
    "def NPV(arr):\n",
    "    return sum([x.PV for x in arr])\n",
    "def pIndex(flows):\n",
    "    pos = [x for x in flows if x.val>0]\n",
    "    neg = [x for x in flows if x.val<0]\n",
    "    return NPV(pos)/-NPV(neg)"
   ]
  },
  {
   "cell_type": "code",
   "execution_count": 2,
   "metadata": {},
   "outputs": [
    {
     "name": "stdout",
     "output_type": "stream",
     "text": [
      "1.239606953892668\n"
     ]
    }
   ],
   "source": [
    "flows = [Cashflow(-1500,0,.05),Cashflow(1000,1,.05),Cashflow(1000,2,.05)]\n",
    "print(pIndex(flows))"
   ]
  },
  {
   "cell_type": "code",
   "execution_count": 3,
   "metadata": {},
   "outputs": [
    {
     "name": "stdout",
     "output_type": "stream",
     "text": [
      "10.0\n",
      "12.210884353741495\n",
      "7.908098991675274\n"
     ]
    }
   ],
   "source": [
    "print(Cashflow(20,0,.05).PV+Cashflow(-10,0,.05).PV)\n",
    "print(Cashflow(30,2,.05).PV+Cashflow(-15,0,.05).PV)\n",
    "print(Cashflow(40,4,.05).PV+Cashflow(-25,0,.05).PV)"
   ]
  }
 ],
 "metadata": {
  "anaconda-cloud": {},
  "kernelspec": {
   "display_name": "Python 3",
   "language": "python",
   "name": "python3"
  },
  "language_info": {
   "codemirror_mode": {
    "name": "ipython",
    "version": 3
   },
   "file_extension": ".py",
   "mimetype": "text/x-python",
   "name": "python",
   "nbconvert_exporter": "python",
   "pygments_lexer": "ipython3",
   "version": "3.6.1"
  }
 },
 "nbformat": 4,
 "nbformat_minor": 1
}
