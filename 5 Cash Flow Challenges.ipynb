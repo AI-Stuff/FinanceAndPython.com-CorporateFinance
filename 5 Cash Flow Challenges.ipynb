{
 "cells": [
  {
   "cell_type": "code",
   "execution_count": 1,
   "metadata": {},
   "outputs": [
    {
     "name": "stdout",
     "output_type": "stream",
     "text": [
      "116473.83353154093\n"
     ]
    }
   ],
   "source": [
    "class Cashflow:\n",
    "    def __init__(self, val,t,r):\n",
    "        self.val = val\n",
    "        self.t = t\n",
    "        self.r = r\n",
    "        self.PV = self.valAt(0)\n",
    "    def valAt(self,time):\n",
    "        return self.val*(1+self.r)**(time-self.t)\n",
    "def NPV(arr):\n",
    "    return sum([x.PV for x in arr])\n",
    "flows1 = [Cashflow(-100000,0,.05),Cashflow(50000,1,.05),Cashflow(50000,2,.05),Cashflow(50000,3,.05),Cashflow(50000,4,.05),Cashflow(50000,5,.05)]\n",
    "print(NPV(flows1))"
   ]
  },
  {
   "cell_type": "code",
   "execution_count": 2,
   "metadata": {},
   "outputs": [
    {
     "name": "stdout",
     "output_type": "stream",
     "text": [
      "116473.83353154096\n"
     ]
    }
   ],
   "source": [
    "NCS = [Cashflow(-100000,0,.05)]\n",
    "OCF = [Cashflow(50000,1,.05),Cashflow(50000,2,.05),Cashflow(50000,3,.05),Cashflow(50000,4,.05),Cashflow(50000,5,.05)]\n",
    "print(NPV(NCS)+NPV(OCF))"
   ]
  },
  {
   "cell_type": "code",
   "execution_count": 3,
   "metadata": {},
   "outputs": [
    {
     "name": "stdout",
     "output_type": "stream",
     "text": [
      "94826.45017838685\n"
     ]
    }
   ],
   "source": [
    "NCS = [Cashflow(-100000,0,.05)]\n",
    "OCF = [Cashflow(45000,1,.05),Cashflow(45000,2,.05),Cashflow(45000,3,.05),Cashflow(45000,4,.05),Cashflow(45000,5,.05)]\n",
    "print(NPV(NCS)+NPV(OCF))"
   ]
  },
  {
   "cell_type": "code",
   "execution_count": 4,
   "metadata": {
    "collapsed": true
   },
   "outputs": [],
   "source": [
    "def NPV2(arr,t):\n",
    "    return sum([x.PV*(1-t) for x in arr])"
   ]
  },
  {
   "cell_type": "code",
   "execution_count": 5,
   "metadata": {},
   "outputs": [
    {
     "name": "stdout",
     "output_type": "stream",
     "text": [
      "55861.1601427095\n"
     ]
    }
   ],
   "source": [
    "NCS = [Cashflow(-100000,0,.05)]\n",
    "OCF = [Cashflow(45000,1,.05),Cashflow(45000,2,.05),Cashflow(45000,3,.05),Cashflow(45000,4,.05),Cashflow(45000,5,.05)]\n",
    "print(NPV(NCS)+NPV2(OCF,.2))"
   ]
  },
  {
   "cell_type": "code",
   "execution_count": 6,
   "metadata": {
    "collapsed": true
   },
   "outputs": [],
   "source": [
    "def taxShield(initial,salvage,years,taxRate,r):\n",
    "    dep = (initial-salvage)/years\n",
    "    taxShield = dep*taxRate\n",
    "    return [Cashflow(taxShield,t,r) for t in range(1,years+1)]"
   ]
  },
  {
   "cell_type": "code",
   "execution_count": 7,
   "metadata": {},
   "outputs": [
    {
     "name": "stdout",
     "output_type": "stream",
     "text": [
      "73179.06682523277\n"
     ]
    }
   ],
   "source": [
    "print(NPV(NCS)+NPV2(OCF,.2)+NPV(taxShield(100000,0,5,.2,.05)))"
   ]
  },
  {
   "cell_type": "code",
   "execution_count": 8,
   "metadata": {},
   "outputs": [
    {
     "name": "stdout",
     "output_type": "stream",
     "text": [
      "-10823.691676577058\n",
      "62355.375148655716\n"
     ]
    }
   ],
   "source": [
    "NWC = [Cashflow(-50000,0,.05),Cashflow(50000,5,.05)]\n",
    "print(NPV(NWC))\n",
    "print(NPV(NCS)+NPV2(OCF,.2)+NPV(taxShield(100000,0,5,.2,.05))+NPV(NWC))"
   ]
  },
  {
   "cell_type": "code",
   "execution_count": 9,
   "metadata": {},
   "outputs": [
    {
     "name": "stdout",
     "output_type": "stream",
     "text": [
      "99140.93946256468\n"
     ]
    }
   ],
   "source": [
    "NCS = [Cashflow(-100000,0,.05),Cashflow(50000,5,.05)]\n",
    "OCF = [Cashflow(45000,1,.05),Cashflow(45000,2,.05),Cashflow(45000,3,.05),Cashflow(45000,4,.05),Cashflow(45000,5,.05)]\n",
    "NWC = [Cashflow(-50000,0,.05),Cashflow(50000,5,.05)]\n",
    "Shield = taxShield(100000,50000,5,.2,.05)\n",
    "print(NPV(NCS)+NPV2(OCF,.2)+NPV(Shield)+NPV(NWC)+NPV2([Cashflow(10000,5,.05)],.2))"
   ]
  }
 ],
 "metadata": {
  "anaconda-cloud": {},
  "kernelspec": {
   "display_name": "Python 3",
   "language": "python",
   "name": "python3"
  },
  "language_info": {
   "codemirror_mode": {
    "name": "ipython",
    "version": 3
   },
   "file_extension": ".py",
   "mimetype": "text/x-python",
   "name": "python",
   "nbconvert_exporter": "python",
   "pygments_lexer": "ipython3",
   "version": "3.6.1"
  }
 },
 "nbformat": 4,
 "nbformat_minor": 1
}
