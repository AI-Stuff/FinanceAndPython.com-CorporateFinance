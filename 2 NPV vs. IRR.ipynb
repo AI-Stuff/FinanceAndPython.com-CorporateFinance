{
 "cells": [
  {
   "cell_type": "code",
   "execution_count": 1,
   "metadata": {},
   "outputs": [
    {
     "name": "stdout",
     "output_type": "stream",
     "text": [
      "359.41043083900206\n"
     ]
    }
   ],
   "source": [
    "class Cashflow:\n",
    "    def __init__(self, val,t,r):\n",
    "        self.val = val\n",
    "        self.t = t\n",
    "        self.r = r\n",
    "        self.PV = self.valAt(0)\n",
    "    def valAt(self,time):\n",
    "        return self.val*(1+self.r)**(time-self.t)\n",
    "def NPV(arr):\n",
    "    return sum([x.PV for x in arr])\n",
    "print(NPV([Cashflow(-1500,0,.05),Cashflow(1000,1,.05),Cashflow(1000,2,.05)]))"
   ]
  },
  {
   "cell_type": "code",
   "execution_count": 2,
   "metadata": {
    "collapsed": true
   },
   "outputs": [],
   "source": [
    "class Cashflow:\n",
    "    def __init__(self, val,t,r):\n",
    "        self.val = val\n",
    "        self.t = t\n",
    "        self.r = r\n",
    "        self.PV = self.valAt(0)\n",
    "    def valAt(self,time):\n",
    "        return self.val*(1+self.r)**(time-self.t)\n",
    "    def tryR(self,r):\n",
    "        return self.val*(1+r)**(0-self.t)"
   ]
  },
  {
   "cell_type": "code",
   "execution_count": 3,
   "metadata": {
    "collapsed": true
   },
   "outputs": [],
   "source": [
    "def NPV2(r,arr):\n",
    "    return sum([x.tryR(r) for x in arr])"
   ]
  },
  {
   "cell_type": "code",
   "execution_count": 4,
   "metadata": {
    "collapsed": true
   },
   "outputs": [],
   "source": [
    "from scipy.optimize import fsolve\n",
    "def findIRR(arr):\n",
    "    return fsolve(NPV2, 0,(arr))"
   ]
  },
  {
   "cell_type": "code",
   "execution_count": 5,
   "metadata": {},
   "outputs": [
    {
     "name": "stdout",
     "output_type": "stream",
     "text": [
      "[ 0.21525044]\n",
      "-8.417373464908451e-10\n"
     ]
    }
   ],
   "source": [
    "print(findIRR([Cashflow(-1500.0,0.0,.05),Cashflow(1000.0,1.0,.05),Cashflow(1000.0,2.0,.05)]))\n",
    "print(NPV2(.215250437022,[Cashflow(-1500.0,0,.05),Cashflow(1000.0,1,.05),Cashflow(1000.0,2,.05)]))"
   ]
  },
  {
   "cell_type": "code",
   "execution_count": 6,
   "metadata": {},
   "outputs": [
    {
     "name": "stdout",
     "output_type": "stream",
     "text": [
      "500.0 Yes Yes\n",
      "470.39505930791086 Yes Yes\n",
      "441.56093810073037 Yes Yes\n",
      "413.46969554152145 Yes Yes\n",
      "386.0946745562128 Yes Yes\n",
      "359.41043083900206 Yes Yes\n",
      "333.3926664293341 Yes Yes\n",
      "308.01816752554805 Yes Yes\n",
      "283.264746227709 Yes Yes\n",
      "259.11118592711034 Yes Yes\n",
      "235.53719008264443 Yes Yes\n",
      "212.52333414495604 Yes Yes\n",
      "190.05102040816348 Yes Yes\n",
      "168.10243558618538 Yes Yes\n",
      "146.66051092643897 Yes Yes\n",
      "125.70888468809096 Yes Yes\n",
      "105.23186682520816 Yes Yes\n",
      "85.21440572722634 Yes Yes\n",
      "65.64205688020695 Yes Yes\n",
      "46.50095332250555 Yes Yes\n",
      "27.777777777777942 Yes Yes\n",
      "9.459736356806275 Yes Yes\n",
      "-8.465466272507342 No No\n",
      "-26.009650340405756 No No\n",
      "-43.184183142559846 No No\n",
      "-60.0 No No\n",
      "-76.46762408667178 No No\n",
      "-92.59718519437047 No No\n",
      "-108.3984375 No No\n",
      "-123.88077639564938 No No\n",
      "-139.05325443787 No No\n",
      "-153.92459646873726 No No\n",
      "-168.50321395775939 No No\n",
      "-182.79721861043595 No No\n",
      "-196.8144352862555 No No\n",
      "-210.56241426611814 No No\n",
      "-224.04844290657456 No No\n",
      "-237.2795567158613 No No\n",
      "-250.2625498844783 No No\n",
      "-263.003985300968 No No\n",
      "-275.5102040816328 No No\n",
      "-287.7873346411148 No No\n",
      "-299.84130132910155 No No\n",
      "-311.67783265685375 No No\n",
      "-323.3024691358027 No No\n",
      "-334.7205707491084 No No\n",
      "-345.9373240758117 No No\n",
      "-356.95774908602925 No No\n",
      "-367.7867056245438 No No\n",
      "-378.4288995991174 No No\n"
     ]
    }
   ],
   "source": [
    "flows = [Cashflow(-1500,0.0,.05),Cashflow(1000,1.0,.05),Cashflow(1000,2.0,.05)]\n",
    "cutoff = findIRR(flows)[0]\n",
    "r=0\n",
    "decision1 =\"Yes\"\n",
    "decision2 =\"Yes\"\n",
    "for _ in range(50):\n",
    "    value = NPV2(r,flows)\n",
    "    if value>0:\n",
    "        decision1 =\"Yes\"\n",
    "    else:\n",
    "        decision1 =\"No\"\n",
    "    if r<cutoff:\n",
    "        decision2 =\"Yes\"\n",
    "    else:\n",
    "        decision2 =\"No\"\n",
    "    r+=.01\n",
    "    print(value,decision1,decision2)"
   ]
  },
  {
   "cell_type": "code",
   "execution_count": 7,
   "metadata": {},
   "outputs": [
    {
     "name": "stdout",
     "output_type": "stream",
     "text": [
      "-500.0 No Yes\n",
      "-470.39505930791086 No Yes\n",
      "-441.56093810073037 No Yes\n",
      "-413.46969554152145 No Yes\n",
      "-386.0946745562128 No Yes\n",
      "-359.41043083900206 No Yes\n",
      "-333.3926664293341 No Yes\n",
      "-308.01816752554805 No Yes\n",
      "-283.264746227709 No Yes\n",
      "-259.11118592711034 No Yes\n",
      "-235.53719008264443 No Yes\n",
      "-212.52333414495604 No Yes\n",
      "-190.05102040816348 No Yes\n",
      "-168.10243558618538 No Yes\n",
      "-146.66051092643897 No Yes\n",
      "-125.70888468809096 No Yes\n",
      "-105.23186682520816 No Yes\n",
      "-85.21440572722634 No Yes\n",
      "-65.64205688020695 No Yes\n",
      "-46.50095332250555 No Yes\n",
      "-27.777777777777942 No Yes\n",
      "-9.459736356806275 No Yes\n",
      "8.465466272507342 Yes No\n",
      "26.009650340405756 Yes No\n",
      "43.184183142559846 Yes No\n",
      "60.0 Yes No\n",
      "76.46762408667178 Yes No\n",
      "92.59718519437047 Yes No\n",
      "108.3984375 Yes No\n",
      "123.88077639564938 Yes No\n",
      "139.05325443787 Yes No\n",
      "153.92459646873726 Yes No\n",
      "168.50321395775939 Yes No\n",
      "182.79721861043595 Yes No\n",
      "196.8144352862555 Yes No\n",
      "210.56241426611814 Yes No\n",
      "224.04844290657456 Yes No\n",
      "237.2795567158613 Yes No\n",
      "250.2625498844783 Yes No\n",
      "263.003985300968 Yes No\n",
      "275.5102040816328 Yes No\n",
      "287.7873346411148 Yes No\n",
      "299.84130132910155 Yes No\n",
      "311.67783265685375 Yes No\n",
      "323.3024691358027 Yes No\n",
      "334.7205707491084 Yes No\n",
      "345.9373240758117 Yes No\n",
      "356.95774908602925 Yes No\n",
      "367.7867056245438 Yes No\n",
      "378.4288995991174 Yes No\n"
     ]
    }
   ],
   "source": [
    "flows = [Cashflow(1500,0.0,.05),Cashflow(-1000,1.0,.05),Cashflow(-1000,2.0,.05)]\n",
    "cutoff = findIRR(flows)[0]\n",
    "r=0\n",
    "decision1 =\"Yes\"\n",
    "decision2 =\"Yes\"\n",
    "for _ in range(50):\n",
    "    value = NPV2(r,flows)\n",
    "    if value>0:\n",
    "        decision1 =\"Yes\"\n",
    "    else:\n",
    "        decision1 =\"No\"\n",
    "    if r<cutoff:\n",
    "        decision2 =\"Yes\"\n",
    "    else:\n",
    "        decision2 =\"No\"\n",
    "    r+=.01\n",
    "    print(value,decision1,decision2)"
   ]
  },
  {
   "cell_type": "code",
   "execution_count": 8,
   "metadata": {},
   "outputs": [
    {
     "data": {
      "image/png": "[encoded data removed]",
      "text/plain": [
       "<matplotlib.figure.Figure at 0x1093982e8>"
      ]
     },
     "metadata": {},
     "output_type": "display_data"
    }
   ],
   "source": [
    "import matplotlib.pyplot as plt\n",
    "\n",
    "flows = [Cashflow(-1500,0,.05),Cashflow(1000,1,.05),Cashflow(1000,2,.05)]\n",
    "\n",
    "r = 0\n",
    "rates=[]\n",
    "values=[]\n",
    "for _ in range(50):\n",
    "    rates+=[r]\n",
    "    values+=[NPV2(r,flows)]\n",
    "    r+=.01\n",
    "plt.plot(rates,values)\n",
    "\n",
    "flows = [Cashflow(1500,0,.05),Cashflow(-1000,1,.05),Cashflow(-1000,2,.05)]\n",
    "\n",
    "r = 0\n",
    "rates=[]\n",
    "values=[]\n",
    "for _ in range(50):\n",
    "    rates+=[r]\n",
    "    values+=[NPV2(r,flows)]\n",
    "    r+=.01\n",
    "plt.plot(rates,values)\n",
    "plt.xlabel(\"r\")\n",
    "plt.ylabel(\"NPV\")\n",
    "plt.legend([\"Cash Flows 1\",\"Negative Cash Flows 1\"])\n",
    "\n",
    "plt.show()"
   ]
  },
  {
   "cell_type": "code",
   "execution_count": 9,
   "metadata": {},
   "outputs": [
    {
     "data": {
      "image/png": "[encoded data removed]",
      "text/plain": [
       "<matplotlib.figure.Figure at 0x10939bf28>"
      ]
     },
     "metadata": {},
     "output_type": "display_data"
    }
   ],
   "source": [
    "flows = [Cashflow(-1200,0,.05),Cashflow(2000,3,.05),Cashflow(2000,6,.05),Cashflow(-3000,10,.05)]\n",
    "\n",
    "r = 0\n",
    "rates=[]\n",
    "values=[]\n",
    "for _ in range(50):\n",
    "    rates+=[r]\n",
    "    values+=[NPV2(r,flows)]\n",
    "    r+=.01\n",
    "plt.axhline(0, color='black')\n",
    "plt.plot(rates,values)\n",
    "plt.xlabel(\"r\")\n",
    "plt.ylabel(\"NPV\")\n",
    "plt.title(\"Cash Flows with Mixed Signs\")\n",
    "plt.show()"
   ]
  }
 ],
 "metadata": {
  "anaconda-cloud": {},
  "kernelspec": {
   "display_name": "Python 3",
   "language": "python",
   "name": "python3"
  },
  "language_info": {
   "codemirror_mode": {
    "name": "ipython",
    "version": 3
   },
   "file_extension": ".py",
   "mimetype": "text/x-python",
   "name": "python",
   "nbconvert_exporter": "python",
   "pygments_lexer": "ipython3",
   "version": "3.6.1"
  }
 },
 "nbformat": 4,
 "nbformat_minor": 1
}
