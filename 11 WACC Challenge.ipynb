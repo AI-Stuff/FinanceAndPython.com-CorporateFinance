{
 "cells": [
  {
   "cell_type": "code",
   "execution_count": 1,
   "metadata": {
    "collapsed": true
   },
   "outputs": [],
   "source": [
    "def unlever(r_a,r_d,E,D):\n",
    "    return r_a + (r_a-r_d)*(D/E)"
   ]
  },
  {
   "cell_type": "code",
   "execution_count": 2,
   "metadata": {
    "collapsed": true
   },
   "outputs": [],
   "source": [
    "a = [.08,.03,100,100]\n",
    "b = [.1,.04,100,0]\n",
    "c = [.09,.02,200,100]\n",
    "d = [.08,.03,100,200]"
   ]
  },
  {
   "cell_type": "code",
   "execution_count": 3,
   "metadata": {},
   "outputs": [
    {
     "name": "stdout",
     "output_type": "stream",
     "text": [
      "0.13\n",
      "0.1\n",
      "0.125\n",
      "0.125\n",
      "The average is:\n",
      "0.12\n",
      "The WACC is:\n",
      "0.07975806451612902\n"
     ]
    }
   ],
   "source": [
    "import numpy as np\n",
    "\n",
    "print(unlever(a[0],a[1],a[2],a[3]))\n",
    "print(unlever(b[0],b[1],b[2],b[3]))\n",
    "print(unlever(c[0],c[1],c[2],c[3]))\n",
    "print(unlever(c[0],c[1],c[2],c[3]))\n",
    "print(\"The average is:\")\n",
    "rates = []\n",
    "rates.append(unlever(a[0],a[1],a[2],a[3]))\n",
    "rates.append(unlever(b[0],b[1],b[2],b[3]))\n",
    "rates.append(unlever(c[0],c[1],c[2],c[3]))\n",
    "rates.append(unlever(c[0],c[1],c[2],c[3]))\n",
    "print(np.mean(rates))\n",
    "def WACC(price,outstanding,debtValue,debtYield,stockReturn,taxRate): \n",
    "    equity = price*outstanding \n",
    "    total = equity+debtValue \n",
    "    return (equity/total)*stockReturn+(debtValue/total)*debtYield*(1-taxRate) \n",
    "print(\"The WACC is:\")\n",
    "print(WACC(10.5,20,(300-200),.04,.1025,.2))"
   ]
  }
 ],
 "metadata": {
  "anaconda-cloud": {},
  "kernelspec": {
   "display_name": "Python 3",
   "language": "python",
   "name": "python3"
  },
  "language_info": {
   "codemirror_mode": {
    "name": "ipython",
    "version": 3
   },
   "file_extension": ".py",
   "mimetype": "text/x-python",
   "name": "python",
   "nbconvert_exporter": "python",
   "pygments_lexer": "ipython3",
   "version": "3.6.1"
  }
 },
 "nbformat": 4,
 "nbformat_minor": 1
}
