{
 "cells": [
  {
   "cell_type": "code",
   "execution_count": 1,
   "metadata": {},
   "outputs": [
    {
     "name": "stdout",
     "output_type": "stream",
     "text": [
      "27.36322655556311\n"
     ]
    }
   ],
   "source": [
    "class Cashflow:\n",
    "    def __init__(self, val,t,r):\n",
    "        self.val = val\n",
    "        self.t = t\n",
    "        self.r = r\n",
    "        self.PV = self.valAt(0)\n",
    "    def valAt(self,time):\n",
    "        return self.val*(1+self.r)**(time-self.t)\n",
    "def NPV(arr):\n",
    "    return sum([x.PV for x in arr])\n",
    "flows = [Cashflow(-150,0,.1), Cashflow(50*1.05,1,.1), Cashflow(50*1.1,2,.1), Cashflow(50*1.15,3,.1), Cashflow(50*1.2,4,.1)]\n",
    "print(NPV(flows))"
   ]
  },
  {
   "cell_type": "code",
   "execution_count": 2,
   "metadata": {},
   "outputs": [
    {
     "name": "stdout",
     "output_type": "stream",
     "text": [
      "-12.260091523803048\n"
     ]
    }
   ],
   "source": [
    "flows = [Cashflow(-150,0,.1), Cashflow(50*.8,1,.1), Cashflow(50*.85,2,.1), Cashflow(50*.9,3,.1), Cashflow(50*.95,4,.1)]\n",
    "print(NPV(flows))"
   ]
  },
  {
   "cell_type": "code",
   "execution_count": 3,
   "metadata": {},
   "outputs": [
    {
     "name": "stdout",
     "output_type": "stream",
     "text": [
      "39.62331807936616\n"
     ]
    }
   ],
   "source": [
    "flows = [Cashflow(50*(1.05-.8),1,.1), Cashflow(50*(1.1-.85),2,.1), Cashflow(50*(1.15-.9),3,.1), Cashflow(50*(1.2-.95),4,.1)]\n",
    "print(NPV(flows))"
   ]
  }
 ],
 "metadata": {
  "anaconda-cloud": {},
  "kernelspec": {
   "display_name": "Python 3",
   "language": "python",
   "name": "python3"
  },
  "language_info": {
   "codemirror_mode": {
    "name": "ipython",
    "version": 3
   },
   "file_extension": ".py",
   "mimetype": "text/x-python",
   "name": "python",
   "nbconvert_exporter": "python",
   "pygments_lexer": "ipython3",
   "version": "3.6.1"
  }
 },
 "nbformat": 4,
 "nbformat_minor": 1
}
