{
 "cells": [
  {
   "cell_type": "code",
   "execution_count": 1,
   "metadata": {
    "collapsed": true
   },
   "outputs": [],
   "source": [
    "class Cashflow:\n",
    "    def __init__(self, val,t,r):\n",
    "        self.val = val\n",
    "        self.t = t\n",
    "        self.r = r\n",
    "        self.PV = self.valAt(0)\n",
    "    def valAt(self,time):\n",
    "        return self.val*(1+self.r)**(time-self.t)"
   ]
  },
  {
   "cell_type": "code",
   "execution_count": 2,
   "metadata": {},
   "outputs": [
    {
     "name": "stdout",
     "output_type": "stream",
     "text": [
      "1859.410430839002\n"
     ]
    }
   ],
   "source": [
    "flows = [Cashflow(1000,1,.05),Cashflow(1000,2,.05)]\n",
    "total =0\n",
    "for f in flows:\n",
    "    total+= f.PV\n",
    "print(total)"
   ]
  },
  {
   "cell_type": "code",
   "execution_count": 3,
   "metadata": {},
   "outputs": [
    {
     "name": "stdout",
     "output_type": "stream",
     "text": [
      "[952.3809523809523, 907.0294784580498]\n",
      "1859.410430839002\n"
     ]
    }
   ],
   "source": [
    "total = [f.PV for f in flows]\n",
    "print(total)\n",
    "print(sum(total))"
   ]
  },
  {
   "cell_type": "code",
   "execution_count": 4,
   "metadata": {},
   "outputs": [
    {
     "name": "stdout",
     "output_type": "stream",
     "text": [
      "2152.5\n",
      "[1102.5, 1050.0]\n",
      "2152.5\n"
     ]
    }
   ],
   "source": [
    "total =0\n",
    "for f in flows:\n",
    "    total+= f.valAt(3)\n",
    "print(total)\n",
    "total = [f.valAt(3) for f in flows]\n",
    "print(total)\n",
    "print(sum(total))"
   ]
  }
 ],
 "metadata": {
  "anaconda-cloud": {},
  "kernelspec": {
   "display_name": "Python 3",
   "language": "python",
   "name": "python3"
  },
  "language_info": {
   "codemirror_mode": {
    "name": "ipython",
    "version": 3
   },
   "file_extension": ".py",
   "mimetype": "text/x-python",
   "name": "python",
   "nbconvert_exporter": "python",
   "pygments_lexer": "ipython3",
   "version": "3.6.1"
  }
 },
 "nbformat": 4,
 "nbformat_minor": 1
}
